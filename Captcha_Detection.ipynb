{
  "nbformat": 4,
  "nbformat_minor": 0,
  "metadata": {
    "colab": {
      "name": "Captcha Detection.ipynb",
      "provenance": []
    },
    "kernelspec": {
      "display_name": "Python 3",
      "name": "python3"
    },
    "language_info": {
      "name": "python"
    },
    "accelerator": "GPU"
  },
  "cells": [
    {
      "cell_type": "markdown",
      "metadata": {
        "id": "bKxUEvjsmnpQ"
      },
      "source": [
        "# Downloading Data"
      ]
    },
    {
      "cell_type": "code",
      "metadata": {
        "id": "C3wCHgUikTmL"
      },
      "source": [
        "!mkdir -p ~/.kaggle\n",
        "!cp drive/MyDrive/kaggle.json ~/.kaggle/\n",
        "!chmod 600 ~/.kaggle/kaggle.json"
      ],
      "execution_count": null,
      "outputs": []
    },
    {
      "cell_type": "code",
      "metadata": {
        "colab": {
          "base_uri": "https://localhost:8080/"
        },
        "id": "zx1MNiJOkbWA",
        "outputId": "387a9ef6-6e54-4ff7-d104-1afb7b10ed57"
      },
      "source": [
        "!kaggle datasets download fanbyprinciple/captcha-images"
      ],
      "execution_count": null,
      "outputs": [
        {
          "output_type": "stream",
          "text": [
            "Downloading captcha-images.zip to /content\n",
            " 65% 8.00M/12.4M [00:00<00:00, 82.2MB/s]\n",
            "100% 12.4M/12.4M [00:00<00:00, 79.5MB/s]\n"
          ],
          "name": "stdout"
        }
      ]
    },
    {
      "cell_type": "code",
      "metadata": {
        "id": "B9EuN_z0kxmE"
      },
      "source": [
        "!unzip captcha-images.zip -d . > /dev/null"
      ],
      "execution_count": null,
      "outputs": []
    },
    {
      "cell_type": "code",
      "metadata": {
        "colab": {
          "base_uri": "https://localhost:8080/"
        },
        "id": "K3K20eEulwSs",
        "outputId": "8be92d10-6d6d-4d4e-9762-fe2fd0990d4c"
      },
      "source": [
        "import os\n",
        "\n",
        "len(os.listdir(\"captcha_images\"))"
      ],
      "execution_count": null,
      "outputs": [
        {
          "output_type": "execute_result",
          "data": {
            "text/plain": [
              "9955"
            ]
          },
          "metadata": {
            "tags": []
          },
          "execution_count": 4
        }
      ]
    },
    {
      "cell_type": "markdown",
      "metadata": {
        "id": "uoeNaC6URARF"
      },
      "source": [
        "# Data Preparation"
      ]
    },
    {
      "cell_type": "code",
      "metadata": {
        "id": "fdp5PLcjW8h0"
      },
      "source": [
        "import os\n",
        "from collections import defaultdict\n",
        "import cv2\n",
        "import random\n",
        "from sklearn.model_selection import train_test_split\n",
        "from sklearn.decomposition import PCA\n",
        "from sklearn.ensemble import RandomForestClassifier\n",
        "from sklearn.pipeline import Pipeline\n",
        "from sklearn.metrics import classification_report, accuracy_score"
      ],
      "execution_count": null,
      "outputs": []
    },
    {
      "cell_type": "code",
      "metadata": {
        "id": "ubjp6wCjREFO"
      },
      "source": [
        "image_names = os.listdir(\"captcha_images\")\n",
        "random.shuffle(image_names)\n",
        "\n",
        "data = []\n",
        "for image_name in image_names:\n",
        "    captcha = image_name.split(\".\")[0]\n",
        "    img = cv2.imread(f\"captcha_images/{image_name}\")\n",
        "\n",
        "    data.append((img, captcha))"
      ],
      "execution_count": null,
      "outputs": []
    },
    {
      "cell_type": "code",
      "metadata": {
        "id": "O1tBBEL-l1_k"
      },
      "source": [
        "train_imgs, test_imgs, train_captchas, test_captchas = train_test_split(\n",
        "    [img for img, _ in data],\n",
        "    [captcha for _, captcha in data],\n",
        "    test_size=0.2\n",
        ")"
      ],
      "execution_count": null,
      "outputs": []
    },
    {
      "cell_type": "code",
      "metadata": {
        "id": "tAds0UYVS0XE"
      },
      "source": [
        "def split_captcha_img(img, captcha):\n",
        "    width, lenght, _ = img.shape\n",
        "    captcha = list(captcha)\n",
        "\n",
        "    splitted_img = []\n",
        "    for idx in range(len(captcha)):\n",
        "        char = captcha[idx]\n",
        "        char_img = img[:, int(idx * lenght / len(captcha)):int((idx + 1) * lenght / len(captcha))]\n",
        "\n",
        "        splitted_img.append((char_img, char))\n",
        "\n",
        "    return splitted_img\n",
        "\n",
        "def prepare_training_data(imgs, captchas, shuffle_flag=True, flatten_flag=False):\n",
        "    prepared_data = []\n",
        "    for img, captcha in zip(imgs, captchas):\n",
        "        prepared_data.extend(split_captcha_img(img, captcha))\n",
        "\n",
        "    if shuffle_flag:\n",
        "        random.shuffle(prepared_data)\n",
        "\n",
        "    if flatten_flag:\n",
        "        return [char_img.reshape(1, -1)[0] for char_img, _ in prepared_data], [char for _, char in prepared_data]\n",
        "    else:\n",
        "        return [char_img for char_img, _ in prepared_data], [char for _, char in prepared_data]"
      ],
      "execution_count": null,
      "outputs": []
    },
    {
      "cell_type": "markdown",
      "metadata": {
        "id": "WqXaiwHU9S9d"
      },
      "source": [
        "# PCA + Random Forest\n"
      ]
    },
    {
      "cell_type": "code",
      "metadata": {
        "id": "eo--nOtrz-Up"
      },
      "source": [
        "X_train, y_train = prepare_training_data(train_imgs, train_captchas, flatten_flag=True)\n",
        "X_test, y_test = prepare_training_data(test_imgs, test_captchas, flatten_flag=True)"
      ],
      "execution_count": null,
      "outputs": []
    },
    {
      "cell_type": "code",
      "metadata": {
        "id": "pQmMTW1ksse8",
        "colab": {
          "base_uri": "https://localhost:8080/"
        },
        "outputId": "98b1e53e-6972-4eb0-bc41-69cf73e91c67"
      },
      "source": [
        "model = Pipeline([('pca', PCA(n_components=50)), ('clf', RandomForestClassifier(n_estimators=51, class_weight=\"balanced\", n_jobs=-1))])\n",
        "model.fit(X_train, y_train)"
      ],
      "execution_count": null,
      "outputs": [
        {
          "output_type": "execute_result",
          "data": {
            "text/plain": [
              "Pipeline(memory=None,\n",
              "         steps=[('pca',\n",
              "                 PCA(copy=True, iterated_power='auto', n_components=50,\n",
              "                     random_state=None, svd_solver='auto', tol=0.0,\n",
              "                     whiten=False)),\n",
              "                ('clf',\n",
              "                 RandomForestClassifier(bootstrap=True, ccp_alpha=0.0,\n",
              "                                        class_weight='balanced',\n",
              "                                        criterion='gini', max_depth=None,\n",
              "                                        max_features='auto',\n",
              "                                        max_leaf_nodes=None, max_samples=None,\n",
              "                                        min_impurity_decrease=0.0,\n",
              "                                        min_impurity_split=None,\n",
              "                                        min_samples_leaf=1, min_samples_split=2,\n",
              "                                        min_weight_fraction_leaf=0.0,\n",
              "                                        n_estimators=51, n_jobs=-1,\n",
              "                                        oob_score=False, random_state=None,\n",
              "                                        verbose=0, warm_start=False))],\n",
              "         verbose=False)"
            ]
          },
          "metadata": {
            "tags": []
          },
          "execution_count": 10
        }
      ]
    },
    {
      "cell_type": "code",
      "metadata": {
        "id": "_IYtgKJyrrKv"
      },
      "source": [
        "preds = model.predict(X_test)"
      ],
      "execution_count": null,
      "outputs": []
    },
    {
      "cell_type": "code",
      "metadata": {
        "colab": {
          "base_uri": "https://localhost:8080/"
        },
        "id": "wza34v4_6YiC",
        "outputId": "9b8bb7be-4a07-4a47-c29b-74252d9a485c"
      },
      "source": [
        "print(classification_report(y_test, preds))"
      ],
      "execution_count": null,
      "outputs": [
        {
          "output_type": "stream",
          "text": [
            "              precision    recall  f1-score   support\n",
            "\n",
            "           2       0.91      0.97      0.94       232\n",
            "           3       0.87      0.91      0.89       265\n",
            "           4       0.95      0.90      0.92       231\n",
            "           5       0.84      0.88      0.86       227\n",
            "           6       0.89      0.92      0.90       228\n",
            "           7       0.90      0.92      0.91       265\n",
            "           8       0.90      0.88      0.89       255\n",
            "           9       0.96      0.98      0.97       264\n",
            "           A       0.93      0.97      0.95       248\n",
            "           B       0.91      0.90      0.91       245\n",
            "           C       0.94      0.96      0.95       247\n",
            "           D       0.93      0.92      0.92       246\n",
            "           E       0.90      0.88      0.89       226\n",
            "           F       0.84      0.88      0.86       240\n",
            "           G       0.98      0.90      0.94       240\n",
            "           H       0.89      0.96      0.92       250\n",
            "           J       0.89      0.93      0.91       247\n",
            "           K       0.91      0.94      0.93       264\n",
            "           L       0.97      0.91      0.94       277\n",
            "           M       0.95      1.00      0.97       233\n",
            "           N       0.97      0.95      0.96       268\n",
            "           P       0.96      0.93      0.94       276\n",
            "           Q       0.93      0.95      0.94       251\n",
            "           R       0.95      0.87      0.91       251\n",
            "           S       0.96      0.92      0.94       256\n",
            "           T       0.96      0.94      0.95       241\n",
            "           U       0.94      0.93      0.93       247\n",
            "           V       0.96      0.96      0.96       226\n",
            "           W       0.97      0.99      0.98       225\n",
            "           X       0.98      0.92      0.95       256\n",
            "           Y       0.98      0.95      0.97       258\n",
            "           Z       0.99      0.95      0.97       279\n",
            "\n",
            "    accuracy                           0.93      7964\n",
            "   macro avg       0.93      0.93      0.93      7964\n",
            "weighted avg       0.93      0.93      0.93      7964\n",
            "\n"
          ],
          "name": "stdout"
        }
      ]
    },
    {
      "cell_type": "code",
      "metadata": {
        "colab": {
          "base_uri": "https://localhost:8080/"
        },
        "id": "KllkVi7z-zxm",
        "outputId": "bcba6e24-d999-45eb-95a2-3a408ced8e45"
      },
      "source": [
        "char_acc = accuracy_score(y_test, preds)\n",
        "expected_acc = char_acc ** 4\n",
        "print(round(expected_acc, 2))"
      ],
      "execution_count": null,
      "outputs": [
        {
          "output_type": "stream",
          "text": [
            "0.75\n"
          ],
          "name": "stdout"
        }
      ]
    },
    {
      "cell_type": "markdown",
      "metadata": {
        "id": "jTz05vt7iC6N"
      },
      "source": [
        "# Nueral Network"
      ]
    },
    {
      "cell_type": "code",
      "metadata": {
        "id": "Z5TsB1AvLAvj"
      },
      "source": [
        "import os\n",
        "import cv2\n",
        "import imutils\n",
        "import numpy as np\n",
        "from sklearn.model_selection import train_test_split\n",
        "from sklearn.preprocessing import LabelBinarizer\n",
        "from sklearn.metrics import classification_report, accuracy_score\n",
        "from keras.models import Sequential\n",
        "from keras.layers.convolutional import Conv2D, MaxPooling2D\n",
        "from keras.layers.core import Flatten, Dense\n",
        "from keras.callbacks import EarlyStopping"
      ],
      "execution_count": null,
      "outputs": []
    },
    {
      "cell_type": "code",
      "metadata": {
        "id": "h8VPnSxuZpRe"
      },
      "source": [
        "class ImagePreprocessor:\n",
        "    def process(self, image_paths):\n",
        "        images, labels = [], []\n",
        "\n",
        "        for captcha_image_file in image_paths:\n",
        "            captcha_label = self._get_captcha_label(captcha_image_file)\n",
        "            gray, letter_bounding_rectangles = self._captcha_to_gray_scale_and_bounding_rectangles(captcha_image_file)\n",
        "\n",
        "            if len(letter_bounding_rectangles) != 4:\n",
        "                continue\n",
        "\n",
        "            letter_images, letter_labels = self._crop_bounding_rectangles_and_save_to_file(letter_bounding_rectangles, gray, captcha_label)\n",
        "\n",
        "            images.extend(letter_images)\n",
        "            labels.extend(letter_labels)\n",
        "\n",
        "        return images, labels\n",
        "\n",
        "    def _preprocess_captcha(self, img):\n",
        "        gray = cv2.cvtColor(img, cv2.COLOR_BGR2GRAY)\n",
        "        gray_with_border = cv2.copyMakeBorder(gray, 8, 8, 8, 8, cv2.BORDER_REPLICATE)\n",
        "        preprocessed = cv2.threshold(gray_with_border, 0, 255, cv2.THRESH_BINARY_INV | cv2.THRESH_OTSU)[1]\n",
        "        return gray_with_border, preprocessed\n",
        "\n",
        "    def _get_captcha_label(self, path_to_file):\n",
        "        filename = os.path.basename(path_to_file)\n",
        "        label = filename.split(\".\")[0]\n",
        "        return label\n",
        "\n",
        "    def _find_bounding_rectangles_of_contours(self, contours):\n",
        "        letter_bounding_rectangles= []\n",
        "        for contour in contours:\n",
        "            (x,y,w,h) = cv2.boundingRect(contour)\n",
        "            if w/h > 1.25:\n",
        "                half_width = int(w/2)\n",
        "                letter_bounding_rectangles.append((x,y,half_width, h))\n",
        "                letter_bounding_rectangles.append((x+half_width, y, half_width, h))\n",
        "            else:\n",
        "                letter_bounding_rectangles.append((x,y,w,h))\n",
        "        return letter_bounding_rectangles\n",
        "\n",
        "    def _captcha_to_gray_scale_and_bounding_rectangles(self, captcha_image_file):\n",
        "        image = cv2.imread(captcha_image_file)\n",
        "        gray, preprocessed = self._preprocess_captcha(image)\n",
        "        contours = cv2.findContours(preprocessed.copy(), cv2.RETR_EXTERNAL, cv2.CHAIN_APPROX_SIMPLE)\n",
        "        contours = contours[0]\n",
        "        letter_bounding_rectangles = self._find_bounding_rectangles_of_contours(contours)\n",
        "        letter_bounding_rectangles = sorted(letter_bounding_rectangles, key=lambda x: x[0])\n",
        "        return gray, letter_bounding_rectangles\n",
        "\n",
        "    def _crop_bounding_rectangles_and_save_to_file(self, letter_bounding_rectangles, gray, captcha_label):\n",
        "        images, labels = [], []\n",
        "\n",
        "        for letter_bounding_rectangle, current_letter in zip(letter_bounding_rectangles, captcha_label):\n",
        "            x,y,w,h = letter_bounding_rectangle\n",
        "            letter_image = gray[y-2:y+h+2, x-2:x+w+2]\n",
        "            letter_image = self._resize_image_to_dimensions(letter_image, 20, 20)\n",
        "            letter_image = np.expand_dims(letter_image, axis=2)\n",
        "\n",
        "            images.append(letter_image)\n",
        "            labels.append(current_letter)\n",
        "\n",
        "        return images, labels\n",
        "\n",
        "    def _resize_image_to_dimensions(self, image, desired_width, desired_height):\n",
        "        (h, w) = image.shape[:2]\n",
        "        if w > h:\n",
        "            image = imutils.resize(image, width=desired_width)\n",
        "        else:\n",
        "            image = imutils.resize(image, height=desired_height)\n",
        "        pad_width = int((desired_width - image.shape[1]) / 2.0)\n",
        "        pad_height = int((desired_height - image.shape[0]) / 2.0)\n",
        "        image_with_border = cv2.copyMakeBorder(image, pad_height, pad_height, pad_width, pad_width, cv2.BORDER_REPLICATE)\n",
        "        image_with_border_resized = cv2.resize(image_with_border, (desired_width, desired_height))\n",
        "        return image_with_border_resized"
      ],
      "execution_count": null,
      "outputs": []
    },
    {
      "cell_type": "code",
      "metadata": {
        "id": "pJ__QFTijC5S"
      },
      "source": [
        "captchas = [f\"captcha_images/{file_name}\" for file_name in os.listdir(\"captcha_images\")]\n",
        "\n",
        "images, labels = ImagePreprocessor().process(captchas)\n",
        "\n",
        "images = np.array(images, dtype=\"float\") / 255.0\n",
        "labels = np.array(labels)"
      ],
      "execution_count": null,
      "outputs": []
    },
    {
      "cell_type": "code",
      "metadata": {
        "id": "tNoArGWLjELs"
      },
      "source": [
        "X_train, X_test, y_train, y_test = train_test_split(images, labels, test_size=0.2, random_state=11)"
      ],
      "execution_count": null,
      "outputs": []
    },
    {
      "cell_type": "code",
      "metadata": {
        "id": "Z446rwlfjFe9"
      },
      "source": [
        "label_binarizer = LabelBinarizer().fit(y_train)\n",
        "y_train = label_binarizer.transform(y_train)\n",
        "y_test = label_binarizer.transform(y_test)"
      ],
      "execution_count": null,
      "outputs": []
    },
    {
      "cell_type": "code",
      "metadata": {
        "colab": {
          "base_uri": "https://localhost:8080/"
        },
        "id": "neyVYIK8jHef",
        "outputId": "2d1b3b1d-b520-4846-9ea7-09123fcf9666"
      },
      "source": [
        "num_classes = len(label_binarizer.classes_)\n",
        "NN_model = Sequential()\n",
        "NN_model.add(Conv2D(20, (5, 5), padding=\"same\", input_shape=(20, 20, 1), activation=\"relu\"))\n",
        "NN_model.add(MaxPooling2D(pool_size=(2, 2), strides=(2, 2)))\n",
        "NN_model.add(Conv2D(50, (5, 5), padding=\"same\", activation=\"relu\"))\n",
        "NN_model.add(MaxPooling2D(pool_size=(2, 2), strides=(2, 2)))\n",
        "NN_model.add(Flatten())\n",
        "NN_model.add(Dense(512, activation=\"relu\"))\n",
        "NN_model.add(Dense(num_classes, activation=\"softmax\"))\n",
        "NN_model.compile(loss=\"categorical_crossentropy\", optimizer=\"adam\", metrics=[\"accuracy\"])\n",
        "NN_model.summary()"
      ],
      "execution_count": null,
      "outputs": [
        {
          "output_type": "stream",
          "text": [
            "Model: \"sequential\"\n",
            "_________________________________________________________________\n",
            "Layer (type)                 Output Shape              Param #   \n",
            "=================================================================\n",
            "conv2d (Conv2D)              (None, 20, 20, 20)        520       \n",
            "_________________________________________________________________\n",
            "max_pooling2d (MaxPooling2D) (None, 10, 10, 20)        0         \n",
            "_________________________________________________________________\n",
            "conv2d_1 (Conv2D)            (None, 10, 10, 50)        25050     \n",
            "_________________________________________________________________\n",
            "max_pooling2d_1 (MaxPooling2 (None, 5, 5, 50)          0         \n",
            "_________________________________________________________________\n",
            "flatten (Flatten)            (None, 1250)              0         \n",
            "_________________________________________________________________\n",
            "dense (Dense)                (None, 512)               640512    \n",
            "_________________________________________________________________\n",
            "dense_1 (Dense)              (None, 32)                16416     \n",
            "=================================================================\n",
            "Total params: 682,498\n",
            "Trainable params: 682,498\n",
            "Non-trainable params: 0\n",
            "_________________________________________________________________\n"
          ],
          "name": "stdout"
        }
      ]
    },
    {
      "cell_type": "code",
      "metadata": {
        "colab": {
          "base_uri": "https://localhost:8080/"
        },
        "id": "uSaHTHldjJul",
        "outputId": "da1ac71f-fe81-4df6-df68-2ad1ae3938aa"
      },
      "source": [
        "early_stopping =EarlyStopping(monitor='val_loss', patience=3)\n",
        "\n",
        "NN_model.fit(\n",
        "    X_train,\n",
        "    y_train,\n",
        "    validation_data=(X_test, y_test),\n",
        "    batch_size=16,\n",
        "    epochs=20,\n",
        "    verbose=1,\n",
        "    callbacks=[early_stopping,]\n",
        ")"
      ],
      "execution_count": null,
      "outputs": [
        {
          "output_type": "stream",
          "text": [
            "Epoch 1/20\n",
            "1938/1938 [==============================] - 50s 4ms/step - loss: 0.5114 - accuracy: 0.8655 - val_loss: 0.0128 - val_accuracy: 0.9965\n",
            "Epoch 2/20\n",
            "1938/1938 [==============================] - 7s 4ms/step - loss: 0.0114 - accuracy: 0.9963 - val_loss: 0.0138 - val_accuracy: 0.9960\n",
            "Epoch 3/20\n",
            "1938/1938 [==============================] - 7s 4ms/step - loss: 0.0061 - accuracy: 0.9984 - val_loss: 0.0084 - val_accuracy: 0.9975\n",
            "Epoch 4/20\n",
            "1938/1938 [==============================] - 7s 4ms/step - loss: 0.0049 - accuracy: 0.9987 - val_loss: 0.0079 - val_accuracy: 0.9981\n",
            "Epoch 5/20\n",
            "1938/1938 [==============================] - 7s 3ms/step - loss: 0.0037 - accuracy: 0.9991 - val_loss: 0.0092 - val_accuracy: 0.9985\n",
            "Epoch 6/20\n",
            "1938/1938 [==============================] - 7s 4ms/step - loss: 0.0027 - accuracy: 0.9993 - val_loss: 0.0085 - val_accuracy: 0.9982\n",
            "Epoch 7/20\n",
            "1938/1938 [==============================] - 7s 3ms/step - loss: 0.0014 - accuracy: 0.9997 - val_loss: 0.0046 - val_accuracy: 0.9987\n",
            "Epoch 8/20\n",
            "1938/1938 [==============================] - 7s 4ms/step - loss: 1.6838e-06 - accuracy: 1.0000 - val_loss: 0.0044 - val_accuracy: 0.9987\n",
            "Epoch 9/20\n",
            "1938/1938 [==============================] - 7s 4ms/step - loss: 5.1394e-07 - accuracy: 1.0000 - val_loss: 0.0043 - val_accuracy: 0.9991\n",
            "Epoch 10/20\n",
            "1938/1938 [==============================] - 7s 3ms/step - loss: 2.8020e-07 - accuracy: 1.0000 - val_loss: 0.0043 - val_accuracy: 0.9991\n",
            "Epoch 11/20\n",
            "1938/1938 [==============================] - 7s 4ms/step - loss: 1.5649e-07 - accuracy: 1.0000 - val_loss: 0.0044 - val_accuracy: 0.9991\n",
            "Epoch 12/20\n",
            "1938/1938 [==============================] - 7s 3ms/step - loss: 5.6980e-08 - accuracy: 1.0000 - val_loss: 0.0045 - val_accuracy: 0.9992\n",
            "Epoch 13/20\n",
            "1938/1938 [==============================] - 7s 4ms/step - loss: 2.0982e-08 - accuracy: 1.0000 - val_loss: 0.0047 - val_accuracy: 0.9992\n"
          ],
          "name": "stdout"
        },
        {
          "output_type": "execute_result",
          "data": {
            "text/plain": [
              "<keras.callbacks.History at 0x7f100193d210>"
            ]
          },
          "metadata": {
            "tags": []
          },
          "execution_count": 21
        }
      ]
    },
    {
      "cell_type": "code",
      "metadata": {
        "id": "cgPm_yE-pcdc"
      },
      "source": [
        "probs = NN_model.predict(X_test)\n",
        "preds = label_binarizer.inverse_transform(probs)"
      ],
      "execution_count": null,
      "outputs": []
    },
    {
      "cell_type": "code",
      "metadata": {
        "colab": {
          "base_uri": "https://localhost:8080/"
        },
        "id": "_LzV9WzmrhK4",
        "outputId": "f82d9c67-e6cb-48ea-bbc5-8fd7e7820d29"
      },
      "source": [
        "labels = label_binarizer.inverse_transform(y_test)\n",
        "print(classification_report(labels, preds, digits=4))"
      ],
      "execution_count": null,
      "outputs": [
        {
          "output_type": "stream",
          "text": [
            "              precision    recall  f1-score   support\n",
            "\n",
            "           2     1.0000    0.9960    0.9980       253\n",
            "           3     0.9960    1.0000    0.9980       248\n",
            "           4     0.9957    1.0000    0.9979       233\n",
            "           5     1.0000    0.9960    0.9980       249\n",
            "           6     1.0000    1.0000    1.0000       225\n",
            "           7     1.0000    1.0000    1.0000       247\n",
            "           8     0.9959    1.0000    0.9979       240\n",
            "           9     1.0000    0.9960    0.9980       249\n",
            "           A     1.0000    0.9954    0.9977       217\n",
            "           B     1.0000    1.0000    1.0000       258\n",
            "           C     1.0000    1.0000    1.0000       233\n",
            "           D     1.0000    1.0000    1.0000       239\n",
            "           E     1.0000    1.0000    1.0000       253\n",
            "           F     0.9962    1.0000    0.9981       260\n",
            "           G     1.0000    1.0000    1.0000       232\n",
            "           H     1.0000    0.9956    0.9978       226\n",
            "           J     0.9960    1.0000    0.9980       248\n",
            "           K     1.0000    1.0000    1.0000       254\n",
            "           L     1.0000    0.9957    0.9979       234\n",
            "           M     0.9953    1.0000    0.9977       214\n",
            "           N     1.0000    1.0000    1.0000       251\n",
            "           P     1.0000    1.0000    1.0000       250\n",
            "           Q     1.0000    1.0000    1.0000       261\n",
            "           R     1.0000    1.0000    1.0000       250\n",
            "           S     1.0000    1.0000    1.0000       235\n",
            "           T     1.0000    1.0000    1.0000       250\n",
            "           U     1.0000    1.0000    1.0000       246\n",
            "           V     1.0000    1.0000    1.0000       231\n",
            "           W     1.0000    1.0000    1.0000       232\n",
            "           X     1.0000    1.0000    1.0000       254\n",
            "           Y     1.0000    1.0000    1.0000       240\n",
            "           Z     1.0000    1.0000    1.0000       237\n",
            "\n",
            "    accuracy                         0.9992      7749\n",
            "   macro avg     0.9992    0.9992    0.9992      7749\n",
            "weighted avg     0.9992    0.9992    0.9992      7749\n",
            "\n"
          ],
          "name": "stdout"
        }
      ]
    },
    {
      "cell_type": "code",
      "metadata": {
        "colab": {
          "base_uri": "https://localhost:8080/"
        },
        "id": "z1UMN8zArx3r",
        "outputId": "b8664871-917a-4d80-9db3-dfa9f56458f5"
      },
      "source": [
        "char_acc = accuracy_score(labels, preds)\n",
        "expected_acc = char_acc ** 4\n",
        "print(round(expected_acc, 4))"
      ],
      "execution_count": null,
      "outputs": [
        {
          "output_type": "stream",
          "text": [
            "0.9969\n"
          ],
          "name": "stdout"
        }
      ]
    }
  ]
}